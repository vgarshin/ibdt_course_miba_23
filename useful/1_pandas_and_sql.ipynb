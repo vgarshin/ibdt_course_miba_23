{
 "cells": [
  {
   "cell_type": "markdown",
   "id": "ad6a93ba",
   "metadata": {},
   "source": [
    "# Introduction to Big Data Modern Technologies course"
   ]
  },
  {
   "cell_type": "markdown",
   "id": "7367c01f",
   "metadata": {},
   "source": [
    "## TOPIC 1: Relational databases practice\n",
    "### More questions"
   ]
  },
  {
   "cell_type": "markdown",
   "id": "b0f7b45a",
   "metadata": {},
   "source": [
    "### 1. Libraries"
   ]
  },
  {
   "cell_type": "markdown",
   "id": "a88d92da",
   "metadata": {},
   "source": [
    "Use [pandasql](https://pypi.org/project/pandasql/) for SQL over the Pandas dataframe."
   ]
  },
  {
   "cell_type": "code",
   "execution_count": null,
   "id": "86d3e0ce",
   "metadata": {},
   "outputs": [],
   "source": [
    "!pip install pandas\n",
    "!pip install pandasql"
   ]
  },
  {
   "cell_type": "code",
   "execution_count": null,
   "id": "b034c45d",
   "metadata": {},
   "outputs": [],
   "source": [
    "import os\n",
    "import sys\n",
    "import datetime\n",
    "import pandas as pd\n",
    "import pandasql as pdsql\n",
    "\n",
    "pd.set_option('display.max_columns', None)"
   ]
  },
  {
   "cell_type": "markdown",
   "id": "211b82a0",
   "metadata": {},
   "source": [
    "### 2. Raw data"
   ]
  },
  {
   "cell_type": "code",
   "execution_count": null,
   "id": "93e3ab28",
   "metadata": {},
   "outputs": [],
   "source": [
    "!ls -la ~/__DATA/IBDT_Spring_2023/topic_1/"
   ]
  },
  {
   "cell_type": "code",
   "execution_count": null,
   "id": "55997476",
   "metadata": {},
   "outputs": [],
   "source": [
    "df = pd.read_csv('~/__DATA/IBDT_Spring_2023/topic_1/jhub_logs_large.csv', sep=';', index_col=False)\n",
    "df.info()"
   ]
  },
  {
   "cell_type": "code",
   "execution_count": null,
   "id": "93afe308",
   "metadata": {},
   "outputs": [],
   "source": [
    "df.head()"
   ]
  },
  {
   "cell_type": "code",
   "execution_count": null,
   "id": "6ed32812",
   "metadata": {},
   "outputs": [],
   "source": [
    "df.describe().T"
   ]
  },
  {
   "cell_type": "markdown",
   "id": "c921e4c2",
   "metadata": {},
   "source": [
    "### 3. SQL over Pandas dataframe"
   ]
  },
  {
   "cell_type": "markdown",
   "id": "2efe548b",
   "metadata": {},
   "source": [
    "#### 3.1. About Python global and local"
   ]
  },
  {
   "cell_type": "markdown",
   "id": "ceeeebdf",
   "metadata": {},
   "source": [
    "They are built-in functions:\n",
    "- `globals()` return the dictionary implementing the current module namespace, [see here](https://docs.python.org/3/library/functions.html#globals)\n",
    "- `locals()` updates and returns a dictionary representing the current local symbol table. Note that at the module level, `locals()` and `globals()` are the same dictionary, [see here](https://docs.python.org/3/library/functions.html#locals)"
   ]
  },
  {
   "cell_type": "code",
   "execution_count": null,
   "id": "40b974f4",
   "metadata": {},
   "outputs": [],
   "source": [
    "globals()"
   ]
  },
  {
   "cell_type": "code",
   "execution_count": null,
   "id": "bee1071b",
   "metadata": {},
   "outputs": [],
   "source": [
    "locals()"
   ]
  },
  {
   "cell_type": "code",
   "execution_count": null,
   "id": "68589cad",
   "metadata": {},
   "outputs": [],
   "source": [
    "print(globals().keys())"
   ]
  },
  {
   "cell_type": "code",
   "execution_count": null,
   "id": "bfba1fd1",
   "metadata": {},
   "outputs": [],
   "source": [
    "globals()['df']"
   ]
  },
  {
   "cell_type": "markdown",
   "id": "9fa747dd",
   "metadata": {},
   "source": [
    "#### 3.2. SQL and dataframe"
   ]
  },
  {
   "cell_type": "code",
   "execution_count": null,
   "id": "fbb608d5",
   "metadata": {},
   "outputs": [],
   "source": [
    "pysqldf = lambda q: pdsql.sqldf(q, globals())"
   ]
  },
  {
   "cell_type": "code",
   "execution_count": null,
   "id": "8ad7ee5d",
   "metadata": {},
   "outputs": [],
   "source": [
    "query = 'SELECT * FROM df LIMIT 5'\n",
    "pysqldf(query)"
   ]
  },
  {
   "cell_type": "code",
   "execution_count": null,
   "id": "6d593517",
   "metadata": {},
   "outputs": [],
   "source": [
    "query = 'SELECT time, log FROM df LIMIT 5'\n",
    "result = pysqldf(query)\n",
    "type(result)"
   ]
  },
  {
   "cell_type": "code",
   "execution_count": null,
   "id": "6fc64d33",
   "metadata": {},
   "outputs": [],
   "source": [
    "result"
   ]
  },
  {
   "cell_type": "code",
   "execution_count": null,
   "id": "cf31beac",
   "metadata": {},
   "outputs": [],
   "source": [
    "query = 'SELECT time, log, stream FROM df WHERE stream == \"stdout\" LIMIT 5'\n",
    "result = pysqldf(query)\n",
    "result"
   ]
  },
  {
   "cell_type": "code",
   "execution_count": null,
   "id": "c873fd62",
   "metadata": {},
   "outputs": [],
   "source": [
    "query = 'SELECT time, kubernetes, log, stream FROM df WHERE stream == \"stdout\" LIMIT 5'\n",
    "result = pdsql.sqldf(query, globals())\n",
    "result"
   ]
  },
  {
   "cell_type": "markdown",
   "id": "b474018e",
   "metadata": {},
   "source": [
    "### 4. Recommendation: use native tools"
   ]
  },
  {
   "cell_type": "markdown",
   "id": "4a69dd88",
   "metadata": {},
   "source": [
    "Since many potential pandas users have some familiarity with SQL, [this page](https://pandas.pydata.org/docs/getting_started/comparison/comparison_with_sql.html) is meant to provide some examples of how various SQL operations would be performed using pandas. "
   ]
  },
  {
   "cell_type": "markdown",
   "id": "5d023382",
   "metadata": {},
   "source": [
    "#### SELECT"
   ]
  },
  {
   "cell_type": "code",
   "execution_count": null,
   "id": "085358e9",
   "metadata": {},
   "outputs": [],
   "source": [
    "# SELECT time, log FROM df LIMIT 5\n",
    "\n",
    "df[['time', 'log']].head(5)"
   ]
  },
  {
   "cell_type": "markdown",
   "id": "aa6b1172",
   "metadata": {},
   "source": [
    "#### WHERE"
   ]
  },
  {
   "cell_type": "code",
   "execution_count": null,
   "id": "c0202b4b",
   "metadata": {},
   "outputs": [],
   "source": [
    "# SELECT time, log, stream FROM df WHERE stream == \"stdout\" LIMIT 5\n",
    "\n",
    "df[df.stream == 'stdout'][['time', 'log']].head(5)"
   ]
  },
  {
   "cell_type": "markdown",
   "id": "47ab62a6",
   "metadata": {},
   "source": [
    "#### GROUPBY"
   ]
  },
  {
   "cell_type": "code",
   "execution_count": null,
   "id": "1af0fbc9",
   "metadata": {},
   "outputs": [],
   "source": [
    "df.groupby('stream').size()"
   ]
  },
  {
   "cell_type": "code",
   "execution_count": null,
   "id": "a47a9879",
   "metadata": {},
   "outputs": [],
   "source": []
  }
 ],
 "metadata": {
  "kernelspec": {
   "display_name": "Python 3 (ipykernel)",
   "language": "python",
   "name": "python3"
  },
  "language_info": {
   "codemirror_mode": {
    "name": "ipython",
    "version": 3
   },
   "file_extension": ".py",
   "mimetype": "text/x-python",
   "name": "python",
   "nbconvert_exporter": "python",
   "pygments_lexer": "ipython3",
   "version": "3.9.6"
  }
 },
 "nbformat": 4,
 "nbformat_minor": 5
}
