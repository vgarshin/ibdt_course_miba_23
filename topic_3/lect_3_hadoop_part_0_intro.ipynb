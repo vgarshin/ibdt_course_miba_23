{
 "cells": [
  {
   "cell_type": "markdown",
   "id": "suitable-ballet",
   "metadata": {},
   "source": [
    "# Introduction to Big Data Modern Technologies course"
   ]
  },
  {
   "cell_type": "markdown",
   "id": "functional-timeline",
   "metadata": {},
   "source": [
    "## TOPIC 3: Hadoop and MapReduce practice\n",
    "### Intro and Jupyter hints"
   ]
  },
  {
   "cell_type": "markdown",
   "id": "fifty-rainbow",
   "metadata": {},
   "source": [
    "### 1. Basic commands and variables"
   ]
  },
  {
   "cell_type": "markdown",
   "id": "465f3ae1",
   "metadata": {},
   "source": [
    "#### 1.1. Unix terminal"
   ]
  },
  {
   "cell_type": "code",
   "execution_count": null,
   "id": "0726e0a3",
   "metadata": {},
   "outputs": [],
   "source": [
    "!help"
   ]
  },
  {
   "cell_type": "code",
   "execution_count": null,
   "id": "0ee3d838",
   "metadata": {},
   "outputs": [],
   "source": [
    "!pwd"
   ]
  },
  {
   "cell_type": "code",
   "execution_count": null,
   "id": "8511c054",
   "metadata": {},
   "outputs": [],
   "source": [
    "!ls"
   ]
  },
  {
   "cell_type": "code",
   "execution_count": null,
   "id": "e448795a",
   "metadata": {},
   "outputs": [],
   "source": [
    "!date"
   ]
  },
  {
   "cell_type": "code",
   "execution_count": null,
   "id": "regular-covering",
   "metadata": {},
   "outputs": [],
   "source": [
    "!touch demo.txt\n",
    "!ls -la"
   ]
  },
  {
   "cell_type": "code",
   "execution_count": null,
   "id": "antique-highway",
   "metadata": {},
   "outputs": [],
   "source": [
    "!echo some text"
   ]
  },
  {
   "cell_type": "code",
   "execution_count": null,
   "id": "prospective-intro",
   "metadata": {},
   "outputs": [],
   "source": [
    "!echo some text > demo.txt"
   ]
  },
  {
   "cell_type": "code",
   "execution_count": null,
   "id": "governing-tournament",
   "metadata": {},
   "outputs": [],
   "source": [
    "!cat demo.txt"
   ]
  },
  {
   "cell_type": "code",
   "execution_count": null,
   "id": "overall-music",
   "metadata": {},
   "outputs": [],
   "source": [
    "!echo some more text > demo.txt"
   ]
  },
  {
   "cell_type": "code",
   "execution_count": null,
   "id": "certified-success",
   "metadata": {},
   "outputs": [],
   "source": [
    "!cat demo.txt"
   ]
  },
  {
   "cell_type": "code",
   "execution_count": null,
   "id": "previous-quebec",
   "metadata": {},
   "outputs": [],
   "source": [
    "!echo some text > demo.txt\n",
    "!echo some more text >> demo.txt"
   ]
  },
  {
   "cell_type": "code",
   "execution_count": null,
   "id": "sophisticated-reverse",
   "metadata": {},
   "outputs": [],
   "source": [
    "!cat demo.txt"
   ]
  },
  {
   "cell_type": "markdown",
   "id": "aa4eda89",
   "metadata": {},
   "source": [
    "#### 1.2. Unix terminal and notebook variables"
   ]
  },
  {
   "cell_type": "markdown",
   "id": "middle-pearl",
   "metadata": {},
   "source": [
    "##### Notebook variables"
   ]
  },
  {
   "cell_type": "code",
   "execution_count": null,
   "id": "cd508023",
   "metadata": {},
   "outputs": [],
   "source": [
    "some_variable = 'pwd'"
   ]
  },
  {
   "cell_type": "code",
   "execution_count": null,
   "id": "a240eac4",
   "metadata": {},
   "outputs": [],
   "source": [
    "!echo some_variable"
   ]
  },
  {
   "cell_type": "code",
   "execution_count": null,
   "id": "37f91a45",
   "metadata": {},
   "outputs": [],
   "source": [
    "!echo {some_variable}"
   ]
  },
  {
   "cell_type": "code",
   "execution_count": null,
   "id": "d66ccaa8",
   "metadata": {},
   "outputs": [],
   "source": [
    "!{some_variable}"
   ]
  },
  {
   "cell_type": "code",
   "execution_count": null,
   "id": "rising-progressive",
   "metadata": {},
   "outputs": [],
   "source": [
    "path = '/home/jovyan/ibdt_course_miba_23/topic_3'\n",
    "file = 'demo.txt'\n",
    "!cat {path + '/' + file}"
   ]
  },
  {
   "cell_type": "markdown",
   "id": "chubby-antarctica",
   "metadata": {},
   "source": [
    "##### Be carefull: Python vs shell variables"
   ]
  },
  {
   "cell_type": "code",
   "execution_count": null,
   "id": "429db3d9",
   "metadata": {},
   "outputs": [],
   "source": [
    "!another_variable=\"hello\""
   ]
  },
  {
   "cell_type": "code",
   "execution_count": null,
   "id": "c3d1f884",
   "metadata": {},
   "outputs": [],
   "source": [
    "!echo ${another_variable}"
   ]
  },
  {
   "cell_type": "code",
   "execution_count": null,
   "id": "74dc2bc4",
   "metadata": {},
   "outputs": [],
   "source": [
    "!another_variable=\"hello\" \n",
    "!echo ${another_variable}"
   ]
  },
  {
   "cell_type": "code",
   "execution_count": null,
   "id": "73fc462b",
   "metadata": {},
   "outputs": [],
   "source": [
    "!another_variable=\"hello\" && echo ${another_variable}"
   ]
  },
  {
   "cell_type": "markdown",
   "id": "christian-haven",
   "metadata": {},
   "source": [
    "#### 1.3. Simple combinations with Python and Unix terminal"
   ]
  },
  {
   "cell_type": "code",
   "execution_count": null,
   "id": "excited-suspension",
   "metadata": {},
   "outputs": [],
   "source": [
    "flag = True"
   ]
  },
  {
   "cell_type": "code",
   "execution_count": null,
   "id": "lightweight-bulgarian",
   "metadata": {},
   "outputs": [],
   "source": [
    "if flag:\n",
    "    !echo hello\n",
    "else:\n",
    "    !echo not hello"
   ]
  },
  {
   "cell_type": "code",
   "execution_count": null,
   "id": "touched-senator",
   "metadata": {},
   "outputs": [],
   "source": [
    "flag_install = True"
   ]
  },
  {
   "cell_type": "code",
   "execution_count": null,
   "id": "mature-evening",
   "metadata": {},
   "outputs": [],
   "source": [
    "if flag:\n",
    "    # install Pandas and NumPy (because it is needed for Pandas)\n",
    "    !pip install pandas\n",
    "else:\n",
    "    # only NumPy install\n",
    "    !pip install numpy"
   ]
  },
  {
   "cell_type": "markdown",
   "id": "0a4a2052",
   "metadata": {},
   "source": [
    "#### 1.4. Jupyter's magic"
   ]
  },
  {
   "cell_type": "markdown",
   "id": "human-maintenance",
   "metadata": {},
   "source": [
    "[Here](https://ipython.readthedocs.io/en/stable/interactive/magics.html) is the magic of Jupyter."
   ]
  },
  {
   "cell_type": "code",
   "execution_count": null,
   "id": "41a10ea2",
   "metadata": {},
   "outputs": [],
   "source": [
    "%magic"
   ]
  },
  {
   "cell_type": "code",
   "execution_count": null,
   "id": "54c740c6",
   "metadata": {},
   "outputs": [],
   "source": [
    "%lsmagic"
   ]
  },
  {
   "cell_type": "code",
   "execution_count": null,
   "id": "ec022341",
   "metadata": {},
   "outputs": [],
   "source": [
    "%pwd"
   ]
  },
  {
   "cell_type": "code",
   "execution_count": null,
   "id": "a6d2e9fa",
   "metadata": {},
   "outputs": [],
   "source": [
    "%ls"
   ]
  },
  {
   "cell_type": "markdown",
   "id": "f84961a4",
   "metadata": {},
   "source": [
    "#### 1.5. Jupyter's cell magic (bash)"
   ]
  },
  {
   "cell_type": "code",
   "execution_count": null,
   "id": "a7209192",
   "metadata": {},
   "outputs": [],
   "source": [
    "%%bash\n",
    "\n",
    "pwd"
   ]
  },
  {
   "cell_type": "code",
   "execution_count": null,
   "id": "50299d8e",
   "metadata": {},
   "outputs": [],
   "source": [
    "%%bash\n",
    "\n",
    "pwd\n",
    "ls -la"
   ]
  },
  {
   "cell_type": "code",
   "execution_count": null,
   "id": "7c318160",
   "metadata": {},
   "outputs": [],
   "source": [
    "%%bash\n",
    "\n",
    "bash_variable=\"hello\"\n",
    "echo $bash_variable\n",
    "echo ${bash_variable}"
   ]
  },
  {
   "cell_type": "markdown",
   "id": "50374191",
   "metadata": {},
   "source": [
    "#### 1.5. Jupyter's cell magic (not only bash)"
   ]
  },
  {
   "cell_type": "code",
   "execution_count": null,
   "id": "63449e23",
   "metadata": {},
   "outputs": [],
   "source": [
    "%%js\n",
    "alert('I can run JavaScript. Ha-ha, you did not expect this message!');"
   ]
  },
  {
   "cell_type": "markdown",
   "id": "quiet-volleyball",
   "metadata": {},
   "source": [
    "### 2. Bash"
   ]
  },
  {
   "cell_type": "markdown",
   "id": "photographic-engineering",
   "metadata": {},
   "source": [
    "##### Loops"
   ]
  },
  {
   "cell_type": "code",
   "execution_count": null,
   "id": "worth-world",
   "metadata": {},
   "outputs": [],
   "source": [
    "%%bash\n",
    "\n",
    "for item in first second third fourth fifth\n",
    "  do\n",
    "    echo ${item}\n",
    "  done"
   ]
  },
  {
   "cell_type": "code",
   "execution_count": null,
   "id": "informative-university",
   "metadata": {},
   "outputs": [],
   "source": [
    "%%bash\n",
    "\n",
    "for item in \"the first\" \"the second\" \"the third\"\n",
    "  do\n",
    "    echo ${item} item\n",
    "  done"
   ]
  },
  {
   "cell_type": "code",
   "execution_count": null,
   "id": "incident-lodge",
   "metadata": {},
   "outputs": [],
   "source": [
    "%%bash\n",
    "\n",
    "for item in \"the first\" \"the second\" \"the third\"\n",
    "  do\n",
    "    echo \"here comes ${item} item\"\n",
    "  done"
   ]
  },
  {
   "cell_type": "code",
   "execution_count": null,
   "id": "operating-paragraph",
   "metadata": {},
   "outputs": [],
   "source": [
    "%%bash\n",
    "\n",
    "file=\"demo.txt\"\n",
    "cat ${file}"
   ]
  },
  {
   "cell_type": "code",
   "execution_count": null,
   "id": "indirect-journal",
   "metadata": {},
   "outputs": [],
   "source": [
    "%%bash\n",
    "\n",
    "file=\"demo.txt\"\n",
    "for word in $(cat ${file})\n",
    "  do\n",
    "    echo ${word}\n",
    "  done"
   ]
  },
  {
   "cell_type": "code",
   "execution_count": null,
   "id": "stopped-storm",
   "metadata": {},
   "outputs": [],
   "source": [
    "%%bash\n",
    "\n",
    "# here we use \n",
    "# environment variable `IFS`\n",
    "# to split list by new line\n",
    "\n",
    "file=\"demo.txt\"\n",
    "IFS=$'\\n'\n",
    "for line in $(cat $file)\n",
    "  do\n",
    "    echo ${line}\n",
    "  done"
   ]
  },
  {
   "cell_type": "code",
   "execution_count": null,
   "id": "objective-crystal",
   "metadata": {},
   "outputs": [],
   "source": [
    "%%bash\n",
    "\n",
    "for file in /home/jovyan/ibdt_course_miba_23/topic_3/*\n",
    "  do\n",
    "    echo $file\n",
    "  done"
   ]
  },
  {
   "cell_type": "markdown",
   "id": "joined-sandwich",
   "metadata": {},
   "source": [
    "##### If-else"
   ]
  },
  {
   "cell_type": "code",
   "execution_count": null,
   "id": "sustainable-poetry",
   "metadata": {},
   "outputs": [],
   "source": [
    "%%bash\n",
    "\n",
    "var=7\n",
    "\n",
    "if [[ ${var} -gt 10 ]]\n",
    "then\n",
    "  echo \"variable is > 5\"\n",
    "else\n",
    "  echo \"variable is < 5\"\n",
    "fi"
   ]
  },
  {
   "cell_type": "code",
   "execution_count": null,
   "id": "elder-assurance",
   "metadata": {},
   "outputs": [],
   "source": [
    "%%bash\n",
    "\n",
    "for file in /home/jovyan/ibdt_course_miba_23/topic_3/*\n",
    "  do\n",
    "    if [ -d \"$file\" ]\n",
    "      then\n",
    "        echo \"$file is a directory\"\n",
    "    elif [ -f \"$file\" ]\n",
    "      then\n",
    "        echo \"$file is a file\"\n",
    "    fi\n",
    "  done"
   ]
  },
  {
   "cell_type": "markdown",
   "id": "commercial-candidate",
   "metadata": {},
   "source": [
    "##### File operations"
   ]
  },
  {
   "cell_type": "code",
   "execution_count": null,
   "id": "pressed-cursor",
   "metadata": {},
   "outputs": [],
   "source": [
    "%%bash\n",
    "\n",
    "cp demo.txt one_more_demo.txt\n",
    "ls -la\n",
    "echo \"**************************************\"\n",
    "cat one_more_demo.txt"
   ]
  },
  {
   "cell_type": "code",
   "execution_count": null,
   "id": "peaceful-sunglasses",
   "metadata": {},
   "outputs": [],
   "source": [
    "%%bash\n",
    "\n",
    "mkdir useless_directory\n",
    "ls -la\n",
    "\n",
    "echo \"**************************************\"\n",
    "\n",
    "mv one_more_demo.txt useless_directory/\n",
    "ls -la useless_directory/\n",
    "\n",
    "echo \"**************************************\"\n",
    "\n",
    "cat useless_directory/one_more_demo.txt"
   ]
  },
  {
   "cell_type": "code",
   "execution_count": null,
   "id": "sudden-cooler",
   "metadata": {},
   "outputs": [],
   "source": [
    "# use `rm -rf` with care!!!\n",
    "\n",
    "!rm -rf useless_directory"
   ]
  },
  {
   "cell_type": "markdown",
   "id": "moving-collector",
   "metadata": {},
   "source": [
    "##### Run Python script"
   ]
  },
  {
   "cell_type": "code",
   "execution_count": null,
   "id": "complex-truth",
   "metadata": {},
   "outputs": [],
   "source": [
    "!which python"
   ]
  },
  {
   "cell_type": "code",
   "execution_count": null,
   "id": "heated-disclosure",
   "metadata": {},
   "outputs": [],
   "source": [
    "!echo \"x = 'I am a Python script and I am running'\" > demo.py\n",
    "!echo \"print(x)\" >> demo.py\n",
    "!cat demo.py"
   ]
  },
  {
   "cell_type": "code",
   "execution_count": null,
   "id": "mediterranean-devil",
   "metadata": {},
   "outputs": [],
   "source": [
    "!python demo.py"
   ]
  },
  {
   "cell_type": "markdown",
   "id": "funky-nothing",
   "metadata": {},
   "source": [
    "### 3. Pipes"
   ]
  },
  {
   "cell_type": "markdown",
   "id": "announced-florida",
   "metadata": {},
   "source": [
    "Here is a [good article](https://medium.com/linuxstories/bash-pipes-and-redirections-4c267c13643b), but we need only `pipe` concept."
   ]
  },
  {
   "cell_type": "code",
   "execution_count": null,
   "id": "first-birth",
   "metadata": {},
   "outputs": [],
   "source": [
    "!wc -l demo.txt"
   ]
  },
  {
   "cell_type": "code",
   "execution_count": null,
   "id": "practical-finland",
   "metadata": {},
   "outputs": [],
   "source": [
    "!wc -l < demo.txt"
   ]
  },
  {
   "cell_type": "code",
   "execution_count": null,
   "id": "spread-korea",
   "metadata": {},
   "outputs": [],
   "source": [
    "!cat demo.txt"
   ]
  },
  {
   "cell_type": "code",
   "execution_count": null,
   "id": "little-isolation",
   "metadata": {},
   "outputs": [],
   "source": [
    "!cat demo.txt | wc -l"
   ]
  },
  {
   "cell_type": "code",
   "execution_count": null,
   "id": "varying-denial",
   "metadata": {},
   "outputs": [],
   "source": [
    "!cat demo.txt | grep more"
   ]
  },
  {
   "cell_type": "code",
   "execution_count": null,
   "id": "executed-packing",
   "metadata": {},
   "outputs": [],
   "source": [
    "!cat demo.txt | grep text"
   ]
  },
  {
   "cell_type": "code",
   "execution_count": null,
   "id": "israeli-absorption",
   "metadata": {},
   "outputs": [],
   "source": [
    "!ls -la"
   ]
  },
  {
   "cell_type": "code",
   "execution_count": null,
   "id": "alternate-watch",
   "metadata": {},
   "outputs": [],
   "source": [
    "!ls -la | grep txt"
   ]
  },
  {
   "cell_type": "code",
   "execution_count": null,
   "id": "national-professional",
   "metadata": {},
   "outputs": [],
   "source": [
    "!ls -la | wc -l"
   ]
  },
  {
   "cell_type": "code",
   "execution_count": null,
   "id": "pregnant-demonstration",
   "metadata": {},
   "outputs": [],
   "source": [
    "!ls -la | grep txt | wc -l"
   ]
  },
  {
   "cell_type": "code",
   "execution_count": null,
   "id": "sapphire-warren",
   "metadata": {},
   "outputs": [],
   "source": [
    "!ls | grep txt | sort"
   ]
  },
  {
   "cell_type": "code",
   "execution_count": null,
   "id": "interim-notebook",
   "metadata": {},
   "outputs": [],
   "source": [
    "!ls | grep txt | sort -r"
   ]
  },
  {
   "cell_type": "markdown",
   "id": "extensive-husband",
   "metadata": {},
   "source": [
    "### 4. Yield"
   ]
  },
  {
   "cell_type": "markdown",
   "id": "occupied-nashville",
   "metadata": {},
   "source": [
    "#### Example 1"
   ]
  },
  {
   "cell_type": "code",
   "execution_count": null,
   "id": "rational-washer",
   "metadata": {},
   "outputs": [],
   "source": [
    "def odd_number(numbers) :\n",
    "    for n in numbers:\n",
    "        if n % 2 != 0:\n",
    "            yield n"
   ]
  },
  {
   "cell_type": "code",
   "execution_count": null,
   "id": "operating-sight",
   "metadata": {},
   "outputs": [],
   "source": [
    "numbers = [0, 1, 2, 3, 4, 5, 6, 7]"
   ]
  },
  {
   "cell_type": "code",
   "execution_count": null,
   "id": "violent-custody",
   "metadata": {},
   "outputs": [],
   "source": [
    "print('odd numbers:')\n",
    "for n in odd_number(numbers):\n",
    "    print(n, end=' ')"
   ]
  },
  {
   "cell_type": "markdown",
   "id": "royal-faculty",
   "metadata": {},
   "source": [
    "#### Example 2"
   ]
  },
  {
   "cell_type": "code",
   "execution_count": null,
   "id": "amended-oasis",
   "metadata": {},
   "outputs": [],
   "source": [
    "def cube_generator():\n",
    "    n = 1\n",
    "    while True:\n",
    "        yield n ** 3                \n",
    "        n += 1 # starts from here if called again"
   ]
  },
  {
   "cell_type": "code",
   "execution_count": null,
   "id": "spoken-delaware",
   "metadata": {},
   "outputs": [],
   "source": [
    "counter = 1\n",
    "for n in cube_generator():\n",
    "    if counter > 10:\n",
    "        break   \n",
    "    print(n)\n",
    "    counter += 1"
   ]
  },
  {
   "cell_type": "markdown",
   "id": "elder-algeria",
   "metadata": {},
   "source": [
    "#### Example 3"
   ]
  },
  {
   "cell_type": "code",
   "execution_count": null,
   "id": "coastal-freeze",
   "metadata": {},
   "outputs": [],
   "source": [
    "def want_more(text):\n",
    "    text = text.split()\n",
    "    for word in text:\n",
    "        print(word)\n",
    "        if word == 'more':\n",
    "            yield True"
   ]
  },
  {
   "cell_type": "code",
   "execution_count": null,
   "id": "faced-absolute",
   "metadata": {},
   "outputs": [],
   "source": [
    "text = 'some text some more text'"
   ]
  },
  {
   "cell_type": "code",
   "execution_count": null,
   "id": "traditional-vault",
   "metadata": {},
   "outputs": [],
   "source": [
    "for w in want_more(text):\n",
    "    result = '-- FOUND --'\n",
    "    break\n",
    "\n",
    "print(result)"
   ]
  },
  {
   "cell_type": "markdown",
   "id": "differential-attendance",
   "metadata": {},
   "source": [
    "__MOTIVATION:__ It is recommended to use `yield` when we want to iterate over a sequence, but we do not want to keep sequence in memory (e.g. because of resource constraints)."
   ]
  },
  {
   "cell_type": "code",
   "execution_count": null,
   "id": "guided-honolulu",
   "metadata": {},
   "outputs": [],
   "source": []
  }
 ],
 "metadata": {
  "kernelspec": {
   "display_name": "Python 3",
   "language": "python",
   "name": "python3"
  },
  "language_info": {
   "codemirror_mode": {
    "name": "ipython",
    "version": 3
   },
   "file_extension": ".py",
   "mimetype": "text/x-python",
   "name": "python",
   "nbconvert_exporter": "python",
   "pygments_lexer": "ipython3",
   "version": "3.8.8"
  },
  "varInspector": {
   "cols": {
    "lenName": 16,
    "lenType": 16,
    "lenVar": 40
   },
   "kernels_config": {
    "python": {
     "delete_cmd_postfix": "",
     "delete_cmd_prefix": "del ",
     "library": "var_list.py",
     "varRefreshCmd": "print(var_dic_list())"
    },
    "r": {
     "delete_cmd_postfix": ") ",
     "delete_cmd_prefix": "rm(",
     "library": "var_list.r",
     "varRefreshCmd": "cat(var_dic_list()) "
    }
   },
   "types_to_exclude": [
    "module",
    "function",
    "builtin_function_or_method",
    "instance",
    "_Feature"
   ],
   "window_display": false
  }
 },
 "nbformat": 4,
 "nbformat_minor": 5
}
