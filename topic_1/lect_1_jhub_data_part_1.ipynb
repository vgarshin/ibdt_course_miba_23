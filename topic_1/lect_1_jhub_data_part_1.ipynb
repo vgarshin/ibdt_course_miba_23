{
 "cells": [
  {
   "cell_type": "markdown",
   "id": "medical-dinner",
   "metadata": {},
   "source": [
    "# Introduction to Big Data Modern Technologies course"
   ]
  },
  {
   "cell_type": "markdown",
   "id": "violent-above",
   "metadata": {},
   "source": [
    "## TOPIC 1: Relational databases practice - explore Jupyter users' activities\n",
    "### Part 1"
   ]
  },
  {
   "cell_type": "markdown",
   "id": "universal-thought",
   "metadata": {},
   "source": [
    "### 1. Libraries"
   ]
  },
  {
   "cell_type": "code",
   "execution_count": null,
   "id": "wrong-tactics",
   "metadata": {},
   "outputs": [],
   "source": [
    "!pip install pandas"
   ]
  },
  {
   "cell_type": "code",
   "execution_count": null,
   "id": "47ba8e55",
   "metadata": {},
   "outputs": [],
   "source": [
    "import os\n",
    "import sys\n",
    "import psycopg2\n",
    "import datetime\n",
    "import pandas as pd\n",
    "\n",
    "pd.set_option('display.max_columns', None)"
   ]
  },
  {
   "cell_type": "markdown",
   "id": "b85884b7",
   "metadata": {},
   "source": [
    "### 2. Raw data"
   ]
  },
  {
   "cell_type": "code",
   "execution_count": null,
   "id": "painful-lounge",
   "metadata": {},
   "outputs": [],
   "source": [
    "!ls -la ~/__DATA/IBDT_Spring_2023/topic_1/"
   ]
  },
  {
   "cell_type": "code",
   "execution_count": null,
   "id": "2786c00b",
   "metadata": {},
   "outputs": [],
   "source": [
    "df = pd.read_csv('~/__DATA/IBDT_Spring_2023/topic_1/jhub_logs.csv', sep=';', index_col=False)\n",
    "df.info()"
   ]
  },
  {
   "cell_type": "code",
   "execution_count": null,
   "id": "a395dfa3",
   "metadata": {},
   "outputs": [],
   "source": [
    "df.head()"
   ]
  },
  {
   "cell_type": "code",
   "execution_count": null,
   "id": "a4a41a6c",
   "metadata": {},
   "outputs": [],
   "source": [
    "df.describe().T"
   ]
  },
  {
   "cell_type": "markdown",
   "id": "b8e4ba50",
   "metadata": {},
   "source": [
    "### 3. Extract logs of the system"
   ]
  },
  {
   "cell_type": "markdown",
   "id": "7dde2350",
   "metadata": {},
   "source": [
    "JupyterHub works within Kubernetes cluster, so we extact not only Jupyter logs, but Kubernetes logs too."
   ]
  },
  {
   "cell_type": "markdown",
   "id": "082fa248",
   "metadata": {},
   "source": [
    "#### 3.1. Kubernetes logs"
   ]
  },
  {
   "cell_type": "code",
   "execution_count": null,
   "id": "d5477cae",
   "metadata": {},
   "outputs": [],
   "source": [
    "df.kubernetes[0]"
   ]
  },
  {
   "cell_type": "code",
   "execution_count": null,
   "id": "827a4f79",
   "metadata": {},
   "outputs": [],
   "source": [
    "def row_info(rin):\n",
    "    \"\"\"\n",
    "    Extracts names of:\n",
    "      - docker image\n",
    "      - id of the Jupyter application\n",
    "      - name of the host, where Jupyter runs\n",
    "    \n",
    "    \"\"\"\n",
    "    img = rin[rin.find('container_image='):].split('\\'')[1]\n",
    "    hub = rin[rin.find('pod_name='):].split('\\'')[1]\n",
    "    host = rin[rin.find('host='):].split('\\'')[1]\n",
    "    return img, hub, host"
   ]
  },
  {
   "cell_type": "code",
   "execution_count": null,
   "id": "046a0881",
   "metadata": {},
   "outputs": [],
   "source": [
    "row_info(df.kubernetes[0])"
   ]
  },
  {
   "cell_type": "markdown",
   "id": "7c53b6db",
   "metadata": {},
   "source": [
    "#### 3.2. JupyterHub logs"
   ]
  },
  {
   "cell_type": "code",
   "execution_count": null,
   "id": "98b7701d",
   "metadata": {},
   "outputs": [],
   "source": [
    "df.log[0]"
   ]
  },
  {
   "cell_type": "code",
   "execution_count": null,
   "id": "c8b4e4cc",
   "metadata": {},
   "outputs": [],
   "source": [
    "def sq_brackets(sin):\n",
    "    \"\"\"\n",
    "    Split log string amd extracts:\n",
    "      - timestamp of the event\n",
    "      - name of application\n",
    "      - type of logs\n",
    "      - code of event\n",
    "      - description\n",
    "    \n",
    "    \"\"\"\n",
    "    try:\n",
    "        s = sin.split('[', 1)[1].split(']')[0]\n",
    "        msg = sin[len(s) + 2 :].strip()\n",
    "        s = s.split()\n",
    "        head = s[0]\n",
    "        ts = ' '.join(s[1:3])\n",
    "        svc = s[3]\n",
    "        typ = s[4].split(':')[0]\n",
    "        code = s[4].split(':')[1]\n",
    "    except:\n",
    "        head, ts, svc, typ, code = '', '', '', '', ''\n",
    "        msg = sin\n",
    "    return head, ts, svc, typ, code, msg"
   ]
  },
  {
   "cell_type": "code",
   "execution_count": null,
   "id": "83c9d655",
   "metadata": {},
   "outputs": [],
   "source": [
    "sq_brackets(df.log[0])"
   ]
  },
  {
   "cell_type": "markdown",
   "id": "7eab1af9",
   "metadata": {},
   "source": [
    "#### 3.3. Make a whole dataset"
   ]
  },
  {
   "cell_type": "markdown",
   "id": "54cdc760",
   "metadata": {},
   "source": [
    "##### 1st way"
   ]
  },
  {
   "cell_type": "code",
   "execution_count": null,
   "id": "8c49339f",
   "metadata": {},
   "outputs": [],
   "source": [
    "df_applied = df.apply(lambda x: row_info(x.kubernetes), axis='columns', result_type='expand')"
   ]
  },
  {
   "cell_type": "code",
   "execution_count": null,
   "id": "5a7157a1",
   "metadata": {},
   "outputs": [],
   "source": [
    "df_applied.head()"
   ]
  },
  {
   "cell_type": "code",
   "execution_count": null,
   "id": "417eb391",
   "metadata": {},
   "outputs": [],
   "source": [
    "df_new = pd.concat([df, df_applied], axis='columns')\n",
    "df_new.head()"
   ]
  },
  {
   "cell_type": "markdown",
   "id": "86bc8a9f",
   "metadata": {},
   "source": [
    "##### 2nd way (more pythonic)"
   ]
  },
  {
   "cell_type": "code",
   "execution_count": null,
   "id": "76f883a9",
   "metadata": {},
   "outputs": [],
   "source": [
    "df['img'], df['hub'], df['host'] = zip(*df['kubernetes'].map(row_info))\n",
    "df.head()"
   ]
  },
  {
   "cell_type": "code",
   "execution_count": null,
   "id": "54a76ee0",
   "metadata": {},
   "outputs": [],
   "source": [
    "df['head'], df['timestamp'], df['service'], \\\n",
    "    df['event_type'], df['event_code'], df['message'] \\\n",
    "    = zip(*df['log'].map(sq_brackets))\n",
    "df.head()"
   ]
  },
  {
   "cell_type": "code",
   "execution_count": null,
   "id": "711bbfde",
   "metadata": {},
   "outputs": [],
   "source": [
    "df.message[0]"
   ]
  },
  {
   "cell_type": "markdown",
   "id": "10b54882",
   "metadata": {},
   "source": [
    "#### 3.4. Find users' activities (some magic and monkey job)"
   ]
  },
  {
   "cell_type": "code",
   "execution_count": null,
   "id": "806871fd",
   "metadata": {},
   "outputs": [],
   "source": [
    "df.shape"
   ]
  },
  {
   "cell_type": "code",
   "execution_count": null,
   "id": "308ddd1d",
   "metadata": {},
   "outputs": [],
   "source": [
    "df_user = df[df['message'].str.contains(\"vgarshin\")]\n",
    "df_user.shape"
   ]
  },
  {
   "cell_type": "code",
   "execution_count": null,
   "id": "e739d380",
   "metadata": {},
   "outputs": [],
   "source": [
    "df_user.head()"
   ]
  },
  {
   "cell_type": "code",
   "execution_count": null,
   "id": "b56c2360",
   "metadata": {},
   "outputs": [],
   "source": [
    "df_user.message.values[0]"
   ]
  },
  {
   "cell_type": "code",
   "execution_count": null,
   "id": "607271fc",
   "metadata": {},
   "outputs": [],
   "source": [
    "df[df['message'].str.contains(\"start\")]"
   ]
  },
  {
   "cell_type": "code",
   "execution_count": null,
   "id": "fc9c359a",
   "metadata": {},
   "outputs": [],
   "source": [
    "df.event_code.value_counts()"
   ]
  },
  {
   "cell_type": "code",
   "execution_count": null,
   "id": "826aec8a",
   "metadata": {},
   "outputs": [],
   "source": [
    "event_codes = df.event_code.unique()\n",
    "event_codes"
   ]
  },
  {
   "cell_type": "code",
   "execution_count": null,
   "id": "005de415",
   "metadata": {},
   "outputs": [],
   "source": [
    "for ec in event_codes:\n",
    "    print('code', ec)\n",
    "    print(df[df.event_code == ec].message.values[0])\n",
    "    try:\n",
    "        print(df[df.event_code == ec].message.values[1])\n",
    "    except:\n",
    "        print('only one record')\n",
    "    print('-' * 50)"
   ]
  },
  {
   "cell_type": "code",
   "execution_count": null,
   "id": "986abc28",
   "metadata": {},
   "outputs": [],
   "source": [
    "def parce_users_activities(row):\n",
    "    \"\"\"\n",
    "    Ugly function.\n",
    "    \n",
    "    You may use dictionary to make it\n",
    "    more pythonic or something else.\n",
    "    \n",
    "    \"\"\"\n",
    "    code = row['event_code']\n",
    "    msg = row['message']\n",
    "    if code == '43':\n",
    "        user = msg.split()[-1]\n",
    "        log = 'logged out'\n",
    "    elif code == '757':\n",
    "        user = msg.split()[-1]\n",
    "        log = 'logged in'\n",
    "    elif code == '402':\n",
    "        user = msg.split()[0]\n",
    "        log = 'pending spawn'\n",
    "    elif code == '1875':\n",
    "        user = msg.split()[4].replace('claim-', '').replace(',', '')\n",
    "        log = 'attempt to create pvc with timeout'\n",
    "    elif code == '1887':\n",
    "        user = msg.split()[1].replace('claim-', '')\n",
    "        log = 'pvc already exists'\n",
    "    elif code == '1840':\n",
    "        user = msg.split()[4].replace('jupyter-', '').replace(',', '')\n",
    "        log = 'attempting to create pod with timeout'\n",
    "    elif code == '1344':\n",
    "        user = msg.split('/')[3]\n",
    "        log = 'failing suspected api request to not-running server'\n",
    "    elif code == '380':\n",
    "        user = msg.split()[3]\n",
    "        log = 'previous spawn failed'\n",
    "    elif code == '567':\n",
    "        user = msg.split('/')[4]\n",
    "        log = 'stream closed while handling '\n",
    "    elif code == '681':\n",
    "        user = msg.split()[0].replace('\\'s', '')\n",
    "        log = 'server failed to start'\n",
    "    elif code == '1997':\n",
    "        user = msg.split('-')[-1]\n",
    "        log = 'deleting pod'\n",
    "    elif code == '689':\n",
    "        user = msg.split()[3].replace('\\'s', '')\n",
    "        log = 'unhandled error starting with timeout'\n",
    "    elif code == '1961' or code == '2044':\n",
    "        user = msg.split()[1].replace('jupyter-', '')\n",
    "        log = 'restarting pod reflector'\n",
    "    elif code == '257':\n",
    "        user = msg.split()[2]\n",
    "        log = 'adding user to proxy'\n",
    "    elif code == '664':\n",
    "        user = msg.split()[1]\n",
    "        log = 'server is ready'\n",
    "    elif code == '61' or code == '85':\n",
    "        user = msg.split()[3]\n",
    "        log = 'spawning sever with advanced configuration option'\n",
    "    elif code == '1143':\n",
    "        user = msg.split()[1].replace(':', '')\n",
    "        log = 'server is slow to stop'\n",
    "    elif code == '2077':\n",
    "        user = msg.split()[0]\n",
    "        log = 'still running'\n",
    "    elif code == '167':\n",
    "        user = msg.split()[1]\n",
    "        log = 'server is already active'\n",
    "    elif code == '1067' or code == '2022':\n",
    "        user = msg.split()[1]\n",
    "        log = 'user server stopped with exit code 1'\n",
    "    elif code == '1857':\n",
    "        user = msg.split()[3].replace('jupyter-', '').replace(',', '')\n",
    "        log = 'found existing pod and attempting to kill'\n",
    "    elif code == '1861':\n",
    "        user = msg.split()[2].replace('jupyter-', '').replace(',', '')\n",
    "        log = 'killed pod and will try starting singleuser pod again'\n",
    "    elif code == '738':\n",
    "        user = msg.split()[0].replace(',', '').replace('\\'s', '')\n",
    "        log = 'server never showed up and giving up'\n",
    "    elif code == '2069':\n",
    "        user = msg.split()[0].replace(',', '')\n",
    "        log = 'user does not appear to be running and shutting it down'  \n",
    "    elif code == '148':\n",
    "        user = msg.split()[-1]\n",
    "        log = 'user is running'\n",
    "    elif code == '1415':\n",
    "        user = msg.split()[-1]\n",
    "        log = 'admin requesting spawn on behalf'\n",
    "    elif code == '1437':\n",
    "        user = msg.split()[5].replace(',', '')\n",
    "        log = 'user requested server which user do not own'\n",
    "    elif code == '626':\n",
    "        user = msg.split()[1]\n",
    "        log = 'server is already started'\n",
    "    elif code == '2085':\n",
    "        user = msg.split()[0]\n",
    "        log = 'server appears to have stopped while the hub was down'\n",
    "    else:\n",
    "        user, log = '', ''\n",
    "    return user, log"
   ]
  },
  {
   "cell_type": "code",
   "execution_count": null,
   "id": "f6eeb9ef",
   "metadata": {},
   "outputs": [],
   "source": [
    "df['user'], df['log'] = zip(*df.apply(parce_users_activities, axis=1))\n",
    "df.head()"
   ]
  },
  {
   "cell_type": "code",
   "execution_count": null,
   "id": "e337afe6",
   "metadata": {},
   "outputs": [],
   "source": [
    "df[df.user != ''].head()"
   ]
  },
  {
   "cell_type": "code",
   "execution_count": null,
   "id": "9b8e12ca",
   "metadata": {},
   "outputs": [],
   "source": [
    "df = df.loc[df.user != '', [\n",
    "    'timestamp',\n",
    "    'hub',\n",
    "    'img',\n",
    "    'host',\n",
    "    'event_code',\n",
    "    'event_type',\n",
    "    'log',\n",
    "    'user'\n",
    "]].reset_index(drop=True)\n",
    "\n",
    "df.head()"
   ]
  },
  {
   "cell_type": "code",
   "execution_count": null,
   "id": "770fc7c8",
   "metadata": {
    "scrolled": true
   },
   "outputs": [],
   "source": [
    "df.user.unique()"
   ]
  },
  {
   "cell_type": "code",
   "execution_count": null,
   "id": "39fe8ac8",
   "metadata": {},
   "outputs": [],
   "source": [
    "df.hub.unique()"
   ]
  },
  {
   "cell_type": "code",
   "execution_count": null,
   "id": "ed521516",
   "metadata": {},
   "outputs": [],
   "source": [
    "df.host.unique()"
   ]
  },
  {
   "cell_type": "markdown",
   "id": "146315f6",
   "metadata": {},
   "source": [
    "### 4. Normalize data"
   ]
  },
  {
   "cell_type": "code",
   "execution_count": null,
   "id": "dd470036",
   "metadata": {},
   "outputs": [],
   "source": [
    "df.info()"
   ]
  },
  {
   "cell_type": "code",
   "execution_count": null,
   "id": "d038b40d",
   "metadata": {},
   "outputs": [],
   "source": [
    "df.shape"
   ]
  },
  {
   "cell_type": "markdown",
   "id": "98060a69",
   "metadata": {},
   "source": [
    "#### 4.1. Users table"
   ]
  },
  {
   "cell_type": "code",
   "execution_count": null,
   "id": "51d61dd5",
   "metadata": {},
   "outputs": [],
   "source": [
    "logins = df.user.unique()\n",
    "print(len(logins))\n",
    "logins"
   ]
  },
  {
   "cell_type": "markdown",
   "id": "8775ac1b",
   "metadata": {},
   "source": [
    "Use `names` library https://pypi.org/project/names/"
   ]
  },
  {
   "cell_type": "code",
   "execution_count": null,
   "id": "71d747e6",
   "metadata": {},
   "outputs": [],
   "source": [
    "!pip install names"
   ]
  },
  {
   "cell_type": "code",
   "execution_count": null,
   "id": "bd1074ac",
   "metadata": {},
   "outputs": [],
   "source": [
    "import names"
   ]
  },
  {
   "cell_type": "code",
   "execution_count": null,
   "id": "9ab16d37",
   "metadata": {},
   "outputs": [],
   "source": [
    "users = []\n",
    "for login in logins:\n",
    "    user = {}\n",
    "    user['login'] = login\n",
    "    user['name'] = names.get_full_name()\n",
    "    user['email'] = login + '@gsom.spbu.ru'\n",
    "    users.append(user)\n",
    "users[0]"
   ]
  },
  {
   "cell_type": "code",
   "execution_count": null,
   "id": "7b7b47d4",
   "metadata": {},
   "outputs": [],
   "source": [
    "df_users = pd.DataFrame(users)\n",
    "df_users.head()"
   ]
  },
  {
   "cell_type": "code",
   "execution_count": null,
   "id": "af4ca80b",
   "metadata": {},
   "outputs": [],
   "source": [
    "df.shape"
   ]
  },
  {
   "cell_type": "code",
   "execution_count": null,
   "id": "6717fb1b",
   "metadata": {},
   "outputs": [],
   "source": [
    "df_users.to_csv('users.csv', sep=';', encoding='utf-8', index=False)"
   ]
  },
  {
   "cell_type": "markdown",
   "id": "a8926bab",
   "metadata": {},
   "source": [
    "#### 4.2. JupyterHub instances table"
   ]
  },
  {
   "cell_type": "code",
   "execution_count": null,
   "id": "d98db67c",
   "metadata": {},
   "outputs": [],
   "source": [
    "df_instances = df[[\n",
    "    'hub',\n",
    "    'img',\n",
    "    'host'\n",
    "]].reset_index(drop=True)\n",
    "df_instances.head()"
   ]
  },
  {
   "cell_type": "code",
   "execution_count": null,
   "id": "192aba14",
   "metadata": {},
   "outputs": [],
   "source": [
    "df_instances.shape"
   ]
  },
  {
   "cell_type": "code",
   "execution_count": null,
   "id": "6f4b67a7",
   "metadata": {},
   "outputs": [],
   "source": [
    "df_instances.drop_duplicates(inplace=True)\n",
    "df_instances.reset_index(drop=True, inplace=True)\n",
    "df_instances.shape"
   ]
  },
  {
   "cell_type": "code",
   "execution_count": null,
   "id": "c90975ba",
   "metadata": {},
   "outputs": [],
   "source": [
    "df_instances.head()"
   ]
  },
  {
   "cell_type": "code",
   "execution_count": null,
   "id": "fc37755b",
   "metadata": {},
   "outputs": [],
   "source": [
    "df_instances.to_csv('instances.csv', sep=';', encoding='utf-8', index=False)"
   ]
  },
  {
   "cell_type": "markdown",
   "id": "efficient-november",
   "metadata": {},
   "source": [
    "#### 4.3. JupyterHub events table"
   ]
  },
  {
   "cell_type": "markdown",
   "id": "pressing-amateur",
   "metadata": {},
   "source": [
    "### <font color='red'>HOME ASSIGNMENT</font>"
   ]
  },
  {
   "cell_type": "code",
   "execution_count": null,
   "id": "f708dd93",
   "metadata": {},
   "outputs": [],
   "source": [
    "# Your code will be here\n",
    "# create a table `events` with columns `event_code`, `event_type`, `log`\n",
    "# drop duplicates and save it to CSV file to import to database later "
   ]
  },
  {
   "cell_type": "markdown",
   "id": "right-gibraltar",
   "metadata": {},
   "source": [
    "#### 4.4. JupyterHub logs table"
   ]
  },
  {
   "cell_type": "code",
   "execution_count": null,
   "id": "molecular-billy",
   "metadata": {},
   "outputs": [],
   "source": [
    "df.head()"
   ]
  },
  {
   "cell_type": "code",
   "execution_count": null,
   "id": "detailed-price",
   "metadata": {},
   "outputs": [],
   "source": [
    "# NOTE that it is an example\n",
    "# you will need to keep only `event_code` column as a key\n",
    "# and remove `event_type` and `log` columns\n",
    "# for data normalization\n",
    "\n",
    "df_logs = df[[\n",
    "    'timestamp',\n",
    "    'hub',\n",
    "    'event_code',\n",
    "    'event_type',   # to be removed\n",
    "    'log',          # to be removed\n",
    "    'user'\n",
    "]].reset_index(drop=True)\n",
    "df_logs.head()"
   ]
  },
  {
   "cell_type": "code",
   "execution_count": null,
   "id": "varying-sword",
   "metadata": {},
   "outputs": [],
   "source": [
    "df_logs.index.name = 'idx'\n",
    "df_logs.to_csv('logs.csv', sep=';', encoding='utf-8', index=True)"
   ]
  },
  {
   "cell_type": "markdown",
   "id": "quiet-temperature",
   "metadata": {},
   "source": [
    "### 5. Toy ETL pipeline"
   ]
  },
  {
   "cell_type": "markdown",
   "id": "freelance-canada",
   "metadata": {},
   "source": [
    "Will create a script like a true data engineers!"
   ]
  },
  {
   "cell_type": "markdown",
   "id": "separated-export",
   "metadata": {},
   "source": [
    "### 6. Home assignment"
   ]
  },
  {
   "cell_type": "markdown",
   "id": "blank-funds",
   "metadata": {},
   "source": [
    "Your home assignment for this part is:\n",
    "1. Take large file with data on logs `~/__DATA/IBDT_Spring_2023/topic_1/jhub_logs_large.csv`\n",
    "2. Create a table for events (see `4.3. JupyterHub events table`) and save it as `csv` like we did with `users` and `instances` tables\n",
    "3. Check your script for the pipeline"
   ]
  },
  {
   "cell_type": "code",
   "execution_count": null,
   "id": "3d075dce",
   "metadata": {},
   "outputs": [],
   "source": []
  }
 ],
 "metadata": {
  "kernelspec": {
   "display_name": "Python 3",
   "language": "python",
   "name": "python3"
  },
  "language_info": {
   "codemirror_mode": {
    "name": "ipython",
    "version": 3
   },
   "file_extension": ".py",
   "mimetype": "text/x-python",
   "name": "python",
   "nbconvert_exporter": "python",
   "pygments_lexer": "ipython3",
   "version": "3.8.8"
  }
 },
 "nbformat": 4,
 "nbformat_minor": 5
}
