{
 "cells": [
  {
   "cell_type": "markdown",
   "id": "medical-dinner",
   "metadata": {},
   "source": [
    "# Introduction to Big Data Modern Technologies course"
   ]
  },
  {
   "cell_type": "markdown",
   "id": "violent-above",
   "metadata": {},
   "source": [
    "## TOPIC 1: Relational databases practice - explore Jupyter users' activities\n",
    "### Part 2"
   ]
  },
  {
   "cell_type": "markdown",
   "id": "universal-thought",
   "metadata": {},
   "source": [
    "### 1. Libraries"
   ]
  },
  {
   "cell_type": "code",
   "execution_count": null,
   "id": "systematic-shakespeare",
   "metadata": {},
   "outputs": [],
   "source": [
    "%load_ext sql"
   ]
  },
  {
   "cell_type": "code",
   "execution_count": null,
   "id": "suburban-graduation",
   "metadata": {},
   "outputs": [],
   "source": [
    "import os\n",
    "import sys"
   ]
  },
  {
   "cell_type": "markdown",
   "id": "equivalent-equation",
   "metadata": {},
   "source": [
    "### 2. Create database and tables"
   ]
  },
  {
   "cell_type": "markdown",
   "id": "going-offering",
   "metadata": {},
   "source": [
    "#### 2.1. Create database"
   ]
  },
  {
   "cell_type": "markdown",
   "id": "36825c35",
   "metadata": {},
   "source": [
    "You may need a [PostgreSQL manual](https://www.postgresql.org/docs/current/sql-createdatabase.html) to create a table and read about [data types](https://www.postgresql.org/docs/current/datatype.html)"
   ]
  },
  {
   "cell_type": "code",
   "execution_count": null,
   "id": "thorough-partner",
   "metadata": {},
   "outputs": [],
   "source": [
    "%%sql postgresql:///jovyan\n",
    "    SELECT * FROM pg_database"
   ]
  },
  {
   "cell_type": "code",
   "execution_count": null,
   "id": "bottom-alarm",
   "metadata": {},
   "outputs": [],
   "source": [
    "%%sql postgresql:///jovyan\n",
    "    CREATE DATABASE test"
   ]
  },
  {
   "cell_type": "code",
   "execution_count": null,
   "id": "premier-chassis",
   "metadata": {},
   "outputs": [],
   "source": [
    "%%sql postgresql:///test\n",
    "    SELECT tablename AS table FROM pg_tables WHERE tablename !~ '^(pg_|sql_)'"
   ]
  },
  {
   "cell_type": "markdown",
   "id": "falling-target",
   "metadata": {},
   "source": [
    "#### 2.2. Create tables"
   ]
  },
  {
   "cell_type": "markdown",
   "id": "tropical-mixture",
   "metadata": {},
   "source": [
    "Our data sample:\n",
    "\n",
    "| login | name | email |\n",
    "| --- | --- | --- |\n",
    "| st070392 | Jennifer Brown | st070392@gsom.spbu.ru |"
   ]
  },
  {
   "cell_type": "code",
   "execution_count": null,
   "id": "coastal-cookie",
   "metadata": {},
   "outputs": [],
   "source": [
    "%%sql postgresql:///test\n",
    "    CREATE TABLE users (\n",
    "        login varchar(32) NOT NULL, \n",
    "        name varchar(128), \n",
    "        email varchar(128)\n",
    "    );"
   ]
  },
  {
   "cell_type": "code",
   "execution_count": null,
   "id": "opponent-deposit",
   "metadata": {},
   "outputs": [],
   "source": [
    "!ls -la"
   ]
  },
  {
   "cell_type": "code",
   "execution_count": null,
   "id": "virtual-orchestra",
   "metadata": {},
   "outputs": [],
   "source": [
    "!pwd"
   ]
  },
  {
   "cell_type": "code",
   "execution_count": null,
   "id": "interim-sponsorship",
   "metadata": {},
   "outputs": [],
   "source": [
    "path_to_file = '/home/jovyan/ibdt_course_miba_23/topic_1/users.csv'"
   ]
  },
  {
   "cell_type": "code",
   "execution_count": null,
   "id": "present-jacksonville",
   "metadata": {},
   "outputs": [],
   "source": [
    "%%sql postgresql:///test\n",
    "    COPY users FROM '/home/jovyan/ibdt_course_miba_23/topic_1/users.csv' DELIMITER ';' CSV HEADER"
   ]
  },
  {
   "cell_type": "code",
   "execution_count": null,
   "id": "comparable-slovakia",
   "metadata": {},
   "outputs": [],
   "source": [
    "%%sql postgresql:///test\n",
    "    SELECT * FROM users LIMIT 5"
   ]
  },
  {
   "cell_type": "markdown",
   "id": "independent-junior",
   "metadata": {},
   "source": [
    "#### 2.3. Create everything like a pro"
   ]
  },
  {
   "cell_type": "markdown",
   "id": "attached-shanghai",
   "metadata": {},
   "source": [
    "Feel like a data engineer"
   ]
  },
  {
   "cell_type": "code",
   "execution_count": null,
   "id": "mediterranean-address",
   "metadata": {},
   "outputs": [],
   "source": [
    "!psql -l"
   ]
  },
  {
   "cell_type": "markdown",
   "id": "diagnostic-district",
   "metadata": {},
   "source": [
    "Use `psql` client https://www.postgresql.org/docs/current/app-psql.html"
   ]
  },
  {
   "cell_type": "code",
   "execution_count": null,
   "id": "separate-rocket",
   "metadata": {},
   "outputs": [],
   "source": [
    "!psql -c 'create database jhub;'"
   ]
  },
  {
   "cell_type": "markdown",
   "id": "every-former",
   "metadata": {},
   "source": [
    "##### Users"
   ]
  },
  {
   "cell_type": "code",
   "execution_count": null,
   "id": "under-montreal",
   "metadata": {},
   "outputs": [],
   "source": [
    "!psql -d jhub -c 'CREATE TABLE users (login varchar(32) NOT NULL, name varchar(128), email varchar(128));'"
   ]
  },
  {
   "cell_type": "code",
   "execution_count": null,
   "id": "general-marina",
   "metadata": {},
   "outputs": [],
   "source": [
    "%%sql postgresql:///jhub\n",
    "    SELECT tablename AS table FROM pg_tables WHERE tablename !~ '^(pg_|sql_)'"
   ]
  },
  {
   "cell_type": "code",
   "execution_count": null,
   "id": "built-macedonia",
   "metadata": {},
   "outputs": [],
   "source": [
    "!psql -d jhub \\\n",
    "    -c \"COPY users FROM '/home/jovyan/ibdt_course_miba_23/topic_1/users.csv' \\\n",
    "    DELIMITER ';' CSV HEADER\""
   ]
  },
  {
   "cell_type": "code",
   "execution_count": null,
   "id": "dominican-cancellation",
   "metadata": {},
   "outputs": [],
   "source": [
    "!psql -d jhub -c 'SELECT * FROM users LIMIT 5;'"
   ]
  },
  {
   "cell_type": "markdown",
   "id": "technical-grounds",
   "metadata": {},
   "source": [
    "##### Instances"
   ]
  },
  {
   "cell_type": "markdown",
   "id": "homeless-movie",
   "metadata": {},
   "source": [
    "### <font color='red'>HOME ASSIGNMENT</font>"
   ]
  },
  {
   "cell_type": "markdown",
   "id": "aboriginal-mirror",
   "metadata": {},
   "source": [
    "##### Events"
   ]
  },
  {
   "cell_type": "markdown",
   "id": "freelance-columbus",
   "metadata": {},
   "source": [
    "### <font color='red'>HOME ASSIGNMENT</font>"
   ]
  },
  {
   "cell_type": "markdown",
   "id": "curious-assist",
   "metadata": {},
   "source": [
    "##### Logs"
   ]
  },
  {
   "cell_type": "markdown",
   "id": "outdoor-limitation",
   "metadata": {},
   "source": [
    "| idx | timestamp | hub | event_code | event_type | log | user |\n",
    "| --- | --- | --- | --- | --- | --- | --- |\n",
    "| 0 | 2022-11-09 06:06:00.909 | hub-5bb9b9c56c-s958d | 43 | login | logged out | st070392 |"
   ]
  },
  {
   "cell_type": "code",
   "execution_count": null,
   "id": "greenhouse-indie",
   "metadata": {},
   "outputs": [],
   "source": [
    "!psql -d jhub -c 'DROP TABLE logs'"
   ]
  },
  {
   "cell_type": "code",
   "execution_count": null,
   "id": "resident-literature",
   "metadata": {},
   "outputs": [],
   "source": [
    "!psql -d jhub -c 'CREATE TABLE logs ( \\\n",
    "    idx bigint primary key, \\\n",
    "    timestamp timestamp, \\\n",
    "    hub varchar(20), \\\n",
    "    event_code bigint, \\\n",
    "    event_type varchar(32), \\\n",
    "    log varchar(512), \\\n",
    "    login varchar(32) \\\n",
    ");'"
   ]
  },
  {
   "cell_type": "code",
   "execution_count": null,
   "id": "dramatic-rendering",
   "metadata": {},
   "outputs": [],
   "source": [
    "!psql -d jhub \\\n",
    "    -c \"COPY logs FROM '/home/jovyan/ibdt_course_miba_23/topic_1/logs.csv' \\\n",
    "    DELIMITER ';' CSV HEADER\""
   ]
  },
  {
   "cell_type": "code",
   "execution_count": null,
   "id": "entire-credit",
   "metadata": {},
   "outputs": [],
   "source": [
    "!psql -d jhub -c 'SELECT * FROM logs LIMIT 5;'"
   ]
  },
  {
   "cell_type": "markdown",
   "id": "latter-determination",
   "metadata": {},
   "source": [
    "### 3. Test our database"
   ]
  },
  {
   "cell_type": "code",
   "execution_count": null,
   "id": "simple-movie",
   "metadata": {},
   "outputs": [],
   "source": [
    "!psql"
   ]
  },
  {
   "cell_type": "code",
   "execution_count": null,
   "id": "round-helena",
   "metadata": {},
   "outputs": [],
   "source": [
    "%%sql postgresql:///jhub\n",
    "    SELECT ls.idx, ls.timestamp, ls.event_code, us.login, us.name, us.email, ls.log FROM logs AS ls\n",
    "    LEFT JOIN users AS us ON ls.login = us.login\n",
    "    LIMIT 5;"
   ]
  },
  {
   "cell_type": "code",
   "execution_count": null,
   "id": "coral-lafayette",
   "metadata": {},
   "outputs": [],
   "source": [
    "%%sql postgresql:///jhub\n",
    "    SELECT COUNT(*) FROM logs AS ls\n",
    "    LEFT JOIN users AS us ON ls.login = us.login\n",
    "    WHERE us.email = 'vgarshin@gsom.spbu.ru'\n",
    "    LIMIT 5;"
   ]
  },
  {
   "cell_type": "markdown",
   "id": "boring-arcade",
   "metadata": {},
   "source": [
    "### 4. Home assignment"
   ]
  },
  {
   "cell_type": "markdown",
   "id": "proof-complexity",
   "metadata": {},
   "source": [
    "Your home assignment for this part is:\n",
    "1. Based on Python data processing script from part 1 and file with data on logs `~/__DATA/IBDT_Spring_2023/topic_1/jhub_logs_large.csv` make a full pipeline Bash script\n",
    "2. Draw a logical scheme of your database (with Word, Excel, PowerPoint, pen and paper...)\n",
    "3. Answer a questions below with use of SQL"
   ]
  },
  {
   "cell_type": "markdown",
   "id": "independent-style",
   "metadata": {},
   "source": [
    "Questions to answer with SQL queries to database:\n",
    "- how many times jhub restarted (HINT - find all unique hub names, each name is for new instance when it restarts)\n",
    "- how many users are in Jupyter?\n",
    "- sort all types of events from more often to less often\n",
    "- find users (name, email) with more and less activity in the Jupyter (HINT - more logs means more activity)"
   ]
  },
  {
   "cell_type": "code",
   "execution_count": null,
   "id": "complicated-gross",
   "metadata": {},
   "outputs": [],
   "source": []
  }
 ],
 "metadata": {
  "kernelspec": {
   "display_name": "Python 3",
   "language": "python",
   "name": "python3"
  },
  "language_info": {
   "codemirror_mode": {
    "name": "ipython",
    "version": 3
   },
   "file_extension": ".py",
   "mimetype": "text/x-python",
   "name": "python",
   "nbconvert_exporter": "python",
   "pygments_lexer": "ipython3",
   "version": "3.8.8"
  }
 },
 "nbformat": 4,
 "nbformat_minor": 5
}
